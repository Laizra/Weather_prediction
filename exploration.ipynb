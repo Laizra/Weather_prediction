{
 "cells": [
  {
   "cell_type": "code",
   "execution_count": 41,
   "metadata": {},
   "outputs": [],
   "source": [
    "import datetime as dt\n",
    "import requests\n",
    "from ghost import API_KEY"
   ]
  },
  {
   "cell_type": "markdown",
   "metadata": {},
   "source": [
    "\"Collect daily weather data into a database. Predict the next day’s high and low temperature for each location with accuracy and other metrics. Present the results. Bonus points to collect professional forecasts and see how the accuracy compares,\""
   ]
  },
  {
   "cell_type": "code",
   "execution_count": 42,
   "metadata": {},
   "outputs": [
    {
     "name": "stdout",
     "output_type": "stream",
     "text": [
      "{'coord': {'lon': -99.1277, 'lat': 19.4285}, 'weather': [{'id': 721, 'main': 'Haze', 'description': 'haze', 'icon': '50d'}, {'id': 711, 'main': 'Smoke', 'description': 'smoke', 'icon': '50d'}], 'base': 'stations', 'main': {'temp': 294.11, 'feels_like': 293.18, 'temp_min': 294.11, 'temp_max': 294.11, 'pressure': 1025, 'humidity': 35}, 'visibility': 4828, 'wind': {'speed': 1.54, 'deg': 80}, 'clouds': {'all': 100}, 'dt': 1715612137, 'sys': {'type': 1, 'id': 7146, 'country': 'MX', 'sunrise': 1715601719, 'sunset': 1715648632}, 'timezone': -21600, 'id': 3530597, 'name': 'Mexico City', 'cod': 200}\n"
     ]
    }
   ],
   "source": [
    "BASE_URL = \"http://api.openweathermap.org/data/2.5/weather?\"\n",
    "CITY = \"Mexico City\"\n",
    "\n",
    "url = BASE_URL + \"appid=\" + API_KEY + \"&q=\" + CITY\n",
    "response = requests.get(url).json()\n",
    "print(response)"
   ]
  },
  {
   "cell_type": "markdown",
   "metadata": {},
   "source": [
    "1.  making API calls no more than once in 10 minutes for each location\n"
   ]
  },
  {
   "cell_type": "code",
   "execution_count": 43,
   "metadata": {},
   "outputs": [],
   "source": [
    "def kelvin_to_celcius(kelvin):\n",
    "    celcius = kelvin - 273.15\n",
    "    return celcius\n",
    "\n",
    "temp_kelvin = response['main']['temp']\n",
    "temp_celcius = kelvin_to_celcius(temp_kelvin)"
   ]
  },
  {
   "cell_type": "code",
   "execution_count": null,
   "metadata": {},
   "outputs": [],
   "source": []
  },
  {
   "cell_type": "code",
   "execution_count": null,
   "metadata": {},
   "outputs": [],
   "source": []
  }
 ],
 "metadata": {
  "kernelspec": {
   "display_name": ".venv",
   "language": "python",
   "name": "python3"
  },
  "language_info": {
   "codemirror_mode": {
    "name": "ipython",
    "version": 3
   },
   "file_extension": ".py",
   "mimetype": "text/x-python",
   "name": "python",
   "nbconvert_exporter": "python",
   "pygments_lexer": "ipython3",
   "version": "3.10.12"
  }
 },
 "nbformat": 4,
 "nbformat_minor": 2
}
