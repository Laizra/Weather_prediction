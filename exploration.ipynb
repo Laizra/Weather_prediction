{
 "cells": [
  {
   "cell_type": "code",
   "execution_count": 47,
   "metadata": {},
   "outputs": [],
   "source": [
    "import datetime as dt\n",
    "import requests\n",
    "from ghost import API_KEY"
   ]
  },
  {
   "cell_type": "markdown",
   "metadata": {},
   "source": [
    "\"Collect daily weather data into a database. \n",
    "\n",
    "Predict the next day’s high and low temperature for each location with accuracy and other metrics. Present the results. Bonus points to collect professional forecasts and see how the accuracy compares,\""
   ]
  },
  {
   "cell_type": "code",
   "execution_count": 48,
   "metadata": {},
   "outputs": [],
   "source": [
    "BASE_URL = \"http://api.openweathermap.org/data/2.5/weather?\"\n",
    "CITY = \"Mexico City\"\n",
    "\n",
    "url = BASE_URL + \"appid=\" + API_KEY + \"&q=\" + CITY\n",
    "response = requests.get(url).json()"
   ]
  },
  {
   "cell_type": "markdown",
   "metadata": {},
   "source": [
    "1.  making API calls no more than once in 10 minutes for each location\n"
   ]
  },
  {
   "cell_type": "code",
   "execution_count": 49,
   "metadata": {},
   "outputs": [],
   "source": [
    "def kelvin_to_celcius(kelvin):\n",
    "    celcius = kelvin - 273.15\n",
    "    return celcius\n",
    "\n",
    "temp_kelvin = response['main']['temp']\n",
    "temp_min_kelvin = response['main']['temp_min']\n",
    "temp_max_kelvin = response['main']['temp_max']\n",
    "feels_like_kelvin = response['main']['feels_like']\n",
    "description = response['weather'][0]['description']\n",
    "\n",
    "temp_celcius = kelvin_to_celcius(temp_kelvin)\n",
    "temp_min_celcius = kelvin_to_celcius(temp_min_kelvin)\n",
    "temp_max_celcius = kelvin_to_celcius(temp_max_kelvin)\n",
    "feels_like_celcius = kelvin_to_celcius(feels_like_kelvin)"
   ]
  },
  {
   "cell_type": "code",
   "execution_count": 50,
   "metadata": {},
   "outputs": [
    {
     "name": "stdout",
     "output_type": "stream",
     "text": [
      "Temperature in Mexico City: 28.910000000000025°C\n",
      "Today's temperature in Mexico City: min 28.860000000000014°C and max 29.25°C\n",
      "Temperature in Mexico City feels like: 27.32000000000005°C\n",
      "General weather in Mexico City: scattered clouds\n"
     ]
    }
   ],
   "source": [
    "print(f\"Temperature in {CITY}: {temp_celcius}°C\")\n",
    "print(f\"Today's temperature in {CITY}: min {temp_min_celcius}°C and max {temp_max_celcius}°C\")\n",
    "print(f\"Temperature in {CITY} feels like: {feels_like_celcius}°C\")\n",
    "print(f\"General weather in {CITY}: {description}\")"
   ]
  },
  {
   "cell_type": "code",
   "execution_count": null,
   "metadata": {},
   "outputs": [],
   "source": []
  }
 ],
 "metadata": {
  "kernelspec": {
   "display_name": ".venv",
   "language": "python",
   "name": "python3"
  },
  "language_info": {
   "codemirror_mode": {
    "name": "ipython",
    "version": 3
   },
   "file_extension": ".py",
   "mimetype": "text/x-python",
   "name": "python",
   "nbconvert_exporter": "python",
   "pygments_lexer": "ipython3",
   "version": "3.10.12"
  }
 },
 "nbformat": 4,
 "nbformat_minor": 2
}
