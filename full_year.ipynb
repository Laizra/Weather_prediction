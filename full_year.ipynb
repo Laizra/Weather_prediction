{
 "cells": [
  {
   "cell_type": "code",
   "execution_count": 2,
   "metadata": {},
   "outputs": [],
   "source": [
    "import pandas as pd\n",
    "import numpy as np\n",
    "import matplotlib.pyplot as plt\n",
    "import seaborn as sns\n",
    "from scipy import stats\n",
    "from scipy.stats import pearsonr\n",
    "import statsmodels.api as sm\n",
    "from statsmodels.formula.api import ols\n",
    "from sklearn.preprocessing import StandardScaler\n",
    "from sklearn.model_selection import train_test_split, GridSearchCV\n",
    "from sklearn.linear_model import Ridge\n",
    "from sklearn.metrics import mean_squared_error, r2_score\n",
    "from sklearn.linear_model import LinearRegression\n",
    "\n"
   ]
  },
  {
   "cell_type": "code",
   "execution_count": 3,
   "metadata": {},
   "outputs": [],
   "source": [
    "df = pd.read_csv(\"full_year-may23-may24.csv\", index_col=\"datetime\")"
   ]
  },
  {
   "cell_type": "markdown",
   "metadata": {},
   "source": [
    "Merge of the two csv datasets plus a new one, expanding from November 1st 2023 to August 1st 2023 - May 15 2024\n",
    "Source: https://www.visualcrossing.com/weather/weather-data-services#"
   ]
  },
  {
   "cell_type": "code",
   "execution_count": 4,
   "metadata": {},
   "outputs": [],
   "source": [
    "# city values remove extra spaces\n",
    "df['name'] = df['name'].str.strip()\n",
    "# calculate null value percentage in columns\n",
    "null_pct = df.apply(pd.isnull).sum()/df.shape[0]\n",
    "# use valid_columns as index of columns to keep which have less than 5% null values\n",
    "valid_columns = df.columns[null_pct < .05]\n",
    "df = df[valid_columns].copy()"
   ]
  },
  {
   "cell_type": "code",
   "execution_count": 5,
   "metadata": {},
   "outputs": [],
   "source": [
    "df = df[['name', 'tempmax', 'tempmin', 'temp', 'feelslikemax', 'feelslikemin',\n",
    "       'feelslike', 'dew', 'humidity', 'precip', 'precipprob', 'precipcover',\n",
    "       'snow', 'snowdepth', 'windgust', 'windspeed', 'winddir',\n",
    "       'sealevelpressure', 'cloudcover', 'visibility', 'sunrise', 'sunset',\n",
    "       'moonphase', 'conditions', 'description']]"
   ]
  },
  {
   "cell_type": "code",
   "execution_count": 6,
   "metadata": {},
   "outputs": [],
   "source": [
    "df.rename(columns = {'name':'location'}, inplace = True)"
   ]
  },
  {
   "cell_type": "code",
   "execution_count": 7,
   "metadata": {},
   "outputs": [
    {
     "data": {
      "text/plain": [
       "array(['Beijing', 'Berlin', 'London', 'Mexico City', 'Moscow', 'Ottawa',\n",
       "       'Paris', 'Rome', 'Washington DC'], dtype=object)"
      ]
     },
     "execution_count": 7,
     "metadata": {},
     "output_type": "execute_result"
    }
   ],
   "source": [
    "df[\"location\"].unique()"
   ]
  },
  {
   "cell_type": "code",
   "execution_count": 8,
   "metadata": {},
   "outputs": [
    {
     "name": "stdout",
     "output_type": "stream",
     "text": [
      "Beijing: R-squared: 0.81\n",
      "Berlin: R-squared: 0.79\n",
      "London: R-squared: 0.81\n",
      "Mexico City: R-squared: 0.00\n",
      "Moscow: R-squared: 0.91\n",
      "Ottawa: R-squared: 0.91\n",
      "Paris: R-squared: 0.80\n",
      "Rome: R-squared: 0.81\n",
      "Washington DC: R-squared: 0.87\n"
     ]
    }
   ],
   "source": [
    "# Function to perform linear regression and calculate R-squared\n",
    "def linear_regression(df, location):\n",
    "    X = df['dew']\n",
    "    X = sm.add_constant(X)  # Adds a constant term to the predictor\n",
    "    y = df['temp']\n",
    "    model = sm.OLS(y, X).fit()\n",
    "    return model.rsquared\n",
    "\n",
    "# Calculate R-squared for each city\n",
    "r_squared_results = {}\n",
    "for location in df['location'].unique():\n",
    "    city_df = df[df['location'] == location]\n",
    "    r_squared_results[location] = linear_regression(city_df, location)\n",
    "\n",
    "# Print results\n",
    "for location, r_squared in r_squared_results.items():\n",
    "    print(f\"{location}: R-squared: {r_squared:.2f}\")"
   ]
  },
  {
   "cell_type": "code",
   "execution_count": 9,
   "metadata": {},
   "outputs": [
    {
     "data": {
      "text/plain": [
       "location\n",
       "Beijing          381\n",
       "Berlin           381\n",
       "London           381\n",
       "Mexico City      381\n",
       "Moscow           381\n",
       "Ottawa           381\n",
       "Paris            381\n",
       "Rome             381\n",
       "Washington DC    381\n",
       "Name: count, dtype: int64"
      ]
     },
     "execution_count": 9,
     "metadata": {},
     "output_type": "execute_result"
    }
   ],
   "source": [
    "df[\"location\"].value_counts()"
   ]
  },
  {
   "cell_type": "code",
   "execution_count": 10,
   "metadata": {},
   "outputs": [],
   "source": [
    "beijing_city = df[df[\"location\"] == \"Beijing\"]\n",
    "berlin_city = df[df[\"location\"] == \"Berlin\"]\n",
    "London_city = df[df[\"location\"] == \"London\"]\n",
    "mexico_city = df[df[\"location\"] == \"Mexico City\"]\n",
    "moscow_city = df[df[\"location\"] == \"Moscow\"]\n",
    "ottawa_city = df[df[\"location\"] == \"Ottowa\"]\n",
    "paris_city = df[df[\"location\"] == \"Paris\"]\n",
    "rome_city = df[df[\"location\"] == \"Rome\"]\n",
    "washington_city = df[df[\"location\"] == \"Washington DC\"]"
   ]
  },
  {
   "cell_type": "code",
   "execution_count": 11,
   "metadata": {},
   "outputs": [
    {
     "name": "stdout",
     "output_type": "stream",
     "text": [
      "Error with predictor sunrise: Pandas data cast to numpy dtype of object. Check input data with np.asarray(data).\n",
      "Error with predictor sunset: Pandas data cast to numpy dtype of object. Check input data with np.asarray(data).\n",
      "Error with predictor conditions: Pandas data cast to numpy dtype of object. Check input data with np.asarray(data).\n",
      "Error with predictor description: Pandas data cast to numpy dtype of object. Check input data with np.asarray(data).\n",
      "\n",
      "Location: Mexico City for dew\n",
      " Predictor: humidity, R-squared: 0.70\n",
      " Predictor: precipprob, R-squared: 0.42\n",
      " Predictor: cloudcover, R-squared: 0.36\n",
      " Predictor: feelslikemin, R-squared: 0.27\n",
      " Predictor: precipcover, R-squared: 0.26\n",
      " Predictor: tempmin, R-squared: 0.26\n",
      " Predictor: precip, R-squared: 0.12\n",
      " Predictor: visibility, R-squared: 0.12\n",
      " Predictor: sealevelpressure, R-squared: 0.06\n",
      " Predictor: tempmax, R-squared: 0.06\n",
      " Predictor: feelslikemax, R-squared: 0.03\n",
      " Predictor: windspeed, R-squared: 0.01\n",
      " Predictor: windgust, R-squared: 0.00\n",
      " Predictor: temp, R-squared: 0.00\n",
      " Predictor: moonphase, R-squared: 0.00\n",
      " Predictor: winddir, R-squared: 0.00\n",
      " Predictor: feelslike, R-squared: 0.00\n",
      " Predictor: snow, R-squared: -0.00\n",
      " Predictor: snowdepth, R-squared: -0.00\n"
     ]
    }
   ],
   "source": [
    "# Function to perform linear regression and calculate R-squared\n",
    "def linear_regression_single_location(loc_df, response='dew'):\n",
    "    def inside_single_location(predictor):\n",
    "        X = loc_df[predictor]\n",
    "        X = sm.add_constant(X)  # Adds a constant term to the predictor\n",
    "        y = loc_df[response]\n",
    "        model = sm.OLS(y, X).fit()\n",
    "        return model.rsquared\n",
    "\n",
    "    r_squared_results = {}\n",
    "    for predictor in loc_df.columns:\n",
    "        if predictor not in ['location', 'dew']:\n",
    "            try:\n",
    "                r_squared = inside_single_location(predictor)\n",
    "                r_squared_results[predictor] = r_squared\n",
    "            except Exception as e:\n",
    "                print(f\"Error with predictor {predictor}: {e}\")\n",
    "\n",
    "    # Print results\n",
    "    print(f\"\\nLocation: Mexico City for {response}\")  # Replace with the actual location name\n",
    "    for predictor, r_squared in sorted(r_squared_results.items(), key=lambda item: item[1], reverse=True):\n",
    "        print(f\" Predictor: {predictor}, R-squared: {r_squared:.2f}\")\n",
    "\n",
    "\n",
    "\n",
    "linear_regression_single_location(mexico_city)"
   ]
  },
  {
   "cell_type": "markdown",
   "metadata": {},
   "source": [
    "The workflow:\n",
    "1) Understand the problem -- find next day's high/low temp; I have data on humidity, temperature, wind speed, etc\n",
    "2) Identify Key Factors -- What are the independent variables (hint #1) and my dependent variables\n",
    "3) Hypothesis -- _ significantly impacts \n",
    "4) Translate Hypo => Testable Statements -- Null/Alternate Hypothesis (this is an example, I had to do this in school, maybe it will help maybe not)\n",
    "5) Design the Experiment -- Data collection/cleaning, model selection, evaluation metrics (Research here)\n",
    "6) Analsys -- train the models, evaluate results (expected temp from your model vs actual temp), testing\n",
    "7) Success "
   ]
  },
  {
   "cell_type": "markdown",
   "metadata": {},
   "source": [
    "- What determines the next day's high and low temperature for each location?\n",
    "- What do you see from the data at first glance that might impact this?\n",
    "- How would you need to organize and clean your data?\n",
    "- Is your model 'universal', meaning does it apply to every location the same (no variance) when it comes to these predictions?\n",
    "- If not, what factors impact your model?\n",
    "- What tools or metrics will you need to use to account for these changes?\n",
    "- Is your model accurate? What causes the inaccuracy, if any?"
   ]
  },
  {
   "cell_type": "markdown",
   "metadata": {},
   "source": [
    "4) Translate Hypo => Testable Statements -- Null/Alternate Hypothesis (this is an example, I had to do this in school, maybe it will help maybe not)"
   ]
  },
  {
   "cell_type": "markdown",
   "metadata": {},
   "source": [
    "5) Design the Experiment -- Data collection/cleaning, model selection, evaluation metrics (Research here)\n",
    "\n",
    "- I used a heatmap to visualize the corralatioin between dew point and temperature"
   ]
  },
  {
   "cell_type": "code",
   "execution_count": 43,
   "metadata": {},
   "outputs": [
    {
     "name": "stderr",
     "output_type": "stream",
     "text": [
      "/tmp/ipykernel_1715/1120353215.py:11: DeprecationWarning: DataFrameGroupBy.apply operated on the grouping columns. This behavior is deprecated, and in a future version of pandas the grouping columns will be excluded from the operation. Either pass `include_groups=False` to exclude the groupings or explicitly select the grouping columns after groupby to silence this warning.\n",
      "  correlation_results = grouped.apply(lambda x: pearsonr(x['cloudcover'], x['tempmax'])[0])\n"
     ]
    }
   ],
   "source": [
    "# Calculate the correlation for the entire dataset\n",
    "corr, p_value = pearsonr(df['dew'], df['temp'])\n",
    "\n",
    "# print(f'Pearson correlation coefficient: {corr}')\n",
    "# print(f'P-value: {p_value}')\n",
    "\n",
    "# Group data by location\n",
    "grouped = df.groupby('location')\n",
    "\n",
    "# Calculate correlation for each group\n",
    "correlation_results = grouped.apply(lambda x: pearsonr(x['cloudcover'], x['tempmax'])[0])"
   ]
  },
  {
   "cell_type": "code",
   "execution_count": 44,
   "metadata": {},
   "outputs": [
    {
     "data": {
      "text/plain": [
       "Text(0.5, 1.0, 'Pearson Correlation between Dew Point and Temperature by Location')"
      ]
     },
     "execution_count": 44,
     "metadata": {},
     "output_type": "execute_result"
    },
    {
     "data": {
      "image/png": "[encoded data removed]",
      "text/plain": [
       "<Figure size 1200x200 with 2 Axes>"
      ]
     },
     "metadata": {},
     "output_type": "display_data"
    }
   ],
   "source": [
    "corr_df = pd.DataFrame(correlation_results, columns=['Correlation']).T\n",
    "\n",
    "plt.figure(figsize=(12, 2))\n",
    "sns.heatmap(corr_df, annot=True, cmap='coolwarm', center=0)\n",
    "plt.title('Pearson Correlation between Dew Point and Temperature by Location')"
   ]
  },
  {
   "cell_type": "markdown",
   "metadata": {},
   "source": [
    "- Check Regression assumptions\n",
    "- Seperate dataframes per location\n",
    "- R2 and Adjusted R2\n",
    "- - sns.heatmap Pearson correlation test\n",
    "- Feature selection\n",
    "- Hypothesis -- significantly impacts\n",
    "- Cross validation (Model selection)\n",
    "- Training and evaluation"
   ]
  },
  {
   "cell_type": "code",
   "execution_count": 14,
   "metadata": {},
   "outputs": [
    {
     "name": "stdout",
     "output_type": "stream",
     "text": [
      "\n",
      "             Feature  R-squared\n",
      "2       feelslikemax   0.975279\n",
      "1               temp   0.704478\n",
      "4          feelslike   0.687455\n",
      "6           humidity   0.398552\n",
      "15  sealevelpressure   0.156866\n",
      "17        visibility   0.132342\n",
      "16        cloudcover   0.128278\n",
      "0            tempmin   0.071125\n",
      "3       feelslikemin   0.067030\n",
      "5                dew   0.056871\n",
      "12          windgust   0.041354\n",
      "14           winddir   0.035761\n",
      "13         windspeed   0.034036\n",
      "9        precipcover   0.032837\n",
      "8         precipprob   0.017106\n",
      "7             precip   0.002361\n",
      "18         moonphase   0.000186\n",
      "11         snowdepth   0.000000\n",
      "10              snow   0.000000\n"
     ]
    }
   ],
   "source": [
    "# r-squared for each variable\n",
    "it = mexico_city[['tempmax', 'tempmin', 'temp', 'feelslikemax',\n",
    "       'feelslikemin', 'feelslike', 'dew', 'humidity', 'precip', 'precipprob',\n",
    "       'precipcover', 'snow', 'snowdepth', 'windgust', 'windspeed', 'winddir',\n",
    "       'sealevelpressure', 'cloudcover', 'visibility',\n",
    "       'moonphase']]\n",
    "\n",
    "target = 'tempmax'\n",
    "features = it.columns.drop(target)\n",
    "r_squared_values = {}\n",
    "\n",
    "for feature in features:\n",
    "    X = it[[feature]]\n",
    "    y = it[target]\n",
    "\n",
    "    model = LinearRegression()\n",
    "    model.fit(X, y)\n",
    "\n",
    "    y_pred = model.predict(X)\n",
    "    r2 = r2_score(y, y_pred)\n",
    "\n",
    "    r_squared_values[feature] = r2\n",
    "\n",
    "# Convert the dictionary to a DataFrame for easier sorting\n",
    "r_squared_df = pd.DataFrame(list(r_squared_values.items()), columns=['Feature', 'R-squared'])\n",
    "r_squared_df = r_squared_df.sort_values(by='R-squared', ascending=False)\n",
    "\n",
    "# Display the sorted DataFrame\n",
    "print(f\"\\n{r_squared_df}\")"
   ]
  },
  {
   "cell_type": "markdown",
   "metadata": {},
   "source": [
    "The true purpose of regression is to seperate the total variance in lowtemp and hightemp from the variance explained by dew and the variance that is still unexplained."
   ]
  },
  {
   "cell_type": "code",
   "execution_count": 15,
   "metadata": {},
   "outputs": [
    {
     "name": "stdout",
     "output_type": "stream",
     "text": [
      "-0.01736241972031332\n"
     ]
    },
    {
     "data": {
      "text/plain": [
       "<matplotlib.legend.Legend at 0x7f12ca0a34f0>"
      ]
     },
     "execution_count": 15,
     "metadata": {},
     "output_type": "execute_result"
    },
    {
     "data": {
      "image/png": "[encoded data removed]",
      "text/plain": [
       "<Figure size 1400x800 with 1 Axes>"
      ]
     },
     "metadata": {},
     "output_type": "display_data"
    }
   ],
   "source": [
    "print(mexico_city[\"tempmax\"].skew())\n",
    "\n",
    "# Calculate statistics\n",
    "mean_temp = mexico_city['tempmax'].mean()\n",
    "median_temp = mexico_city['tempmax'].median()\n",
    "mode_result = stats.mode(mexico_city['tempmax'], nan_policy='omit')\n",
    "\n",
    "# Handling mode calculation\n",
    "if isinstance(mode_result.mode, np.ndarray) and len(mode_result.mode) > 0:\n",
    "    mode_temp = mode_result.mode[0]\n",
    "else:\n",
    "    mode_temp = mode_result.mode if mode_result.count > 0 else None\n",
    "\n",
    "# Plot histogram and KDE\n",
    "plt.figure(figsize=(14, 8))\n",
    "sns.histplot(mexico_city['tempmax'], bins=10, kde=True, color='g', edgecolor='black', alpha=0.5)\n",
    "\n",
    "# Plot mean, median, and mode lines\n",
    "plt.axvline(mean_temp, color='red', linestyle='dashed', linewidth=2, label=f'Mean: {mean_temp:.2f}')\n",
    "plt.axvline(median_temp, color='blue', linestyle='dashed', linewidth=2, label=f'Median: {median_temp:.2f}')\n",
    "plt.axvline(mode_temp, color='yellow', linestyle='dashed', linewidth=2, label=f'Mode: {mode_temp:.2f}')\n",
    "\n",
    "# Add title and labels\n",
    "plt.title('Max Temperature Distribution')\n",
    "plt.xlabel('Max Temperature')\n",
    "plt.ylabel('Frequency')\n",
    "plt.legend()"
   ]
  },
  {
   "cell_type": "code",
   "execution_count": 35,
   "metadata": {},
   "outputs": [],
   "source": [
    "df_numerical = df[['precip', 'precipprob', 'precipcover', 'snow', 'snowdepth',\n",
    "       'windgust', 'windspeed', 'winddir', 'sealevelpressure', 'cloudcover', 'visibility',\n",
    "       'moonphase']]"
   ]
  },
  {
   "cell_type": "code",
   "execution_count": 42,
   "metadata": {},
   "outputs": [
    {
     "name": "stdout",
     "output_type": "stream",
     "text": [
      "R-squared (humidity to tempmax): 0.9849652282460464\n",
      "Adjusted R-squared (humidity to tempmax): 0.9848455881525136\n"
     ]
    }
   ],
   "source": [
    "# Assuming 'it' is your DataFrame with columns humidity, dew, and tempmax\n",
    "# Function to calculate adjusted R-squared\n",
    "def adjusted_r2(r2, n, p):\n",
    "    return 1 - ((1 - r2) * (n - 1) / (n - p - 1))\n",
    "\n",
    "# For humidity\n",
    "X_humidity = it[['humidity', 'feelslikemax', 'dew']]  # Features (independent variables)\n",
    "y = it['tempmax']  # Target variable (dependent variable)\n",
    "\n",
    "# Initialize and fit the linear regression model\n",
    "model_humidity = LinearRegression()\n",
    "model_humidity.fit(X_humidity, y)\n",
    "\n",
    "# Predictions and R-squared for humidity\n",
    "y_pred_humidity = model_humidity.predict(X_humidity)\n",
    "r2_humidity = r2_score(y, y_pred_humidity)\n",
    "n_humidity = X_humidity.shape[0]  # Number of samples\n",
    "p_humidity = X_humidity.shape[1]  # Number of features\n",
    "adj_r2_humidity = adjusted_r2(r2_humidity, n_humidity, p_humidity)\n",
    "\n",
    "print(f\"R-squared (humidity to tempmax): {r2_humidity}\")\n",
    "print(f\"Adjusted R-squared (humidity to tempmax): {adj_r2_humidity}\")"
   ]
  },
  {
   "cell_type": "code",
   "execution_count": 40,
   "metadata": {},
   "outputs": [
    {
     "name": "stdout",
     "output_type": "stream",
     "text": [
      "Ridge R-squared: 0.9999999999800697\n",
      "Ridge MSE: 2.2715007756797315e-10\n",
      "Best Parameters for Ridge: {'alpha': 0.0001}\n"
     ]
    }
   ],
   "source": [
    "# Define features and target\n",
    "X = it.drop(['precip', 'precipprob', 'precipcover', 'snow', 'snowdepth',\n",
    "            'windgust', 'windspeed', 'winddir', 'sealevelpressure', 'cloudcover', 'visibility',\n",
    "            'moonphase'], axis=1)\n",
    "y = it['tempmax']\n",
    "\n",
    "# Standardize the data\n",
    "scaler = StandardScaler()\n",
    "X_scaled = scaler.fit_transform(X)\n",
    "\n",
    "# Split the data\n",
    "X_train, X_test, y_train, y_test = train_test_split(X_scaled, y, test_size=0.2, random_state=42)\n",
    "\n",
    "# Define models\n",
    "ridge = Ridge()\n",
    "\n",
    "# Define parameter grids for hyperparameter tuning\n",
    "param_grid_ridge = {'alpha': np.logspace(-4, 4, 50)}\n",
    "\n",
    "# Perform grid search with cross-validation\n",
    "grid_ridge = GridSearchCV(ridge, param_grid_ridge, cv=5, scoring='r2')\n",
    "\n",
    "# Fit models\n",
    "grid_ridge.fit(X_train, y_train)\n",
    "\n",
    "# Evaluate models on test set\n",
    "models = {'Ridge': grid_ridge}\n",
    "\n",
    "for name, model in models.items():\n",
    "    y_pred = model.predict(X_test)\n",
    "    print(f\"{name} R-squared: {r2_score(y_test, y_pred)}\")\n",
    "    print(f\"{name} MSE: {mean_squared_error(y_test, y_pred)}\")\n",
    "    print(f\"Best Parameters for {name}: {model.best_params_}\")"
   ]
  },
  {
   "cell_type": "markdown",
   "metadata": {},
   "source": [
    "ElasticNet R-squared: 0.9999999993541295\n",
    "ElasticNet MSE: 7.361149261789576e-09\n",
    "Best Parameters for ElasticNet: {'alpha': 0.0001, 'l1_ratio': 1.0}\n",
    "\n",
    "Lasso R-squared: 0.9999999993541295\n",
    "Lasso MSE: 7.361149261789576e-09\n",
    "Best Parameters for Lasso: {'alpha': 0.0001}\n",
    "\n",
    "Ridge R-squared: 0.9999999999999003\n",
    "Ridge MSE: 1.1364757457790597e-12\n",
    "Best Parameters for Ridge: {'alpha': 0.0001}"
   ]
  },
  {
   "cell_type": "code",
   "execution_count": 37,
   "metadata": {},
   "outputs": [
    {
     "name": "stdout",
     "output_type": "stream",
     "text": [
      "    df_resid          ssr  df_diff       ss_diff          F        Pr(>F)\n",
      "0      302.0  4541.890522      0.0           NaN        NaN           NaN\n",
      "1      301.0  4474.460545      1.0  6.742998e+01   6.868503  9.218189e-03\n",
      "2      300.0  4374.746110      1.0  9.971443e+01  10.157038  1.589135e-03\n",
      "3      300.0  4374.746110     -0.0 -9.094947e-13        inf           NaN\n",
      "4      300.0  4374.746110     -0.0 -0.000000e+00        NaN           NaN\n",
      "5      299.0  4173.500110      1.0  2.012460e+02  20.499171  8.624956e-06\n",
      "6      298.0  4068.900350      1.0  1.045998e+02  10.654664  1.225755e-03\n",
      "7      297.0  3910.738844      1.0  1.581615e+02  16.110530  7.571088e-05\n",
      "8      296.0  3426.880632      1.0  4.838582e+02  49.286408  1.516738e-11\n",
      "9      295.0  3217.391002      1.0  2.094896e+02  21.338878  5.755838e-06\n",
      "10     294.0  2909.253201      1.0  3.081378e+02  31.387305  4.859453e-08\n",
      "11     293.0  2876.461532      1.0  3.279167e+01   3.340201  6.862328e-02\n"
     ]
    }
   ],
   "source": [
    "# Define new features and target\n",
    "features = ['precip', 'precipprob', 'precipcover', 'snow', 'snowdepth',\n",
    "            'windgust', 'windspeed', 'winddir', 'sealevelpressure', 'cloudcover', 'visibility',\n",
    "            'moonphase']\n",
    "X = it[features]\n",
    "y = it['tempmax']\n",
    "\n",
    "# Standardize the data\n",
    "scaler = StandardScaler()\n",
    "X_scaled = scaler.fit_transform(X)\n",
    "X = pd.DataFrame(X_scaled, columns=features)\n",
    "\n",
    "# Add the target variable to the DataFrame\n",
    "data = pd.concat([X, y.reset_index(drop=True)], axis=1)\n",
    "\n",
    "# Split the data\n",
    "train_data, test_data = train_test_split(data, test_size=0.2, random_state=42)\n",
    "\n",
    "# Fit nested models using statsmodels for ANOVA\n",
    "model1 = ols('tempmax ~ precip', data=train_data).fit()\n",
    "model2 = ols('tempmax ~ precip + precipprob', data=train_data).fit()\n",
    "model3 = ols('tempmax ~ precip + precipprob + precipcover', data=train_data).fit()\n",
    "model4 = ols('tempmax ~ precip + precipprob + precipcover + snow', data=train_data).fit()\n",
    "model5 = ols('tempmax ~ precip + precipprob + precipcover + snow + snowdepth', data=train_data).fit()\n",
    "model6 = ols('tempmax ~ precip + precipprob + precipcover + snow + snowdepth + windgust', data=train_data).fit()\n",
    "model7 = ols('tempmax ~ precip + precipprob + precipcover + snow + snowdepth + windgust + windspeed', data=train_data).fit()\n",
    "model8 = ols('tempmax ~ precip + precipprob + precipcover + snow + snowdepth + windgust + windspeed + winddir', data=train_data).fit()\n",
    "model9 = ols('tempmax ~ precip + precipprob + precipcover + snow + snowdepth + windgust + windspeed + winddir + sealevelpressure', data=train_data).fit()\n",
    "model10 = ols('tempmax ~ precip + precipprob + precipcover + snow + snowdepth + windgust + windspeed + winddir + sealevelpressure + cloudcover', data=train_data).fit()\n",
    "model11 = ols('tempmax ~ precip + precipprob + precipcover + snow + snowdepth + windgust + windspeed + winddir + sealevelpressure + cloudcover + visibility', data=train_data).fit()\n",
    "model12 = ols('tempmax ~ precip + precipprob + precipcover + snow + snowdepth + windgust + windspeed + winddir + sealevelpressure + cloudcover + visibility + moonphase', data=train_data).fit()\n",
    "\n",
    "# Perform ANOVA\n",
    "anova_results = sm.stats.anova_lm(model1, model2, model3, model4, model5, model6, model7, model8, model9, model10, model11, model12)\n",
    "print(anova_results)\n"
   ]
  },
  {
   "cell_type": "code",
   "execution_count": 34,
   "metadata": {},
   "outputs": [
    {
     "name": "stdout",
     "output_type": "stream",
     "text": [
      "             feature           VIF\n",
      "0             precip      1.356313\n",
      "1         precipprob      1.857855\n",
      "2        precipcover      2.300363\n",
      "3               snow      1.150798\n",
      "4          snowdepth      1.121873\n",
      "5           windgust      1.880324\n",
      "6          windspeed      1.733378\n",
      "7            winddir      1.052069\n",
      "8   sealevelpressure      1.334987\n",
      "9         cloudcover      1.515251\n",
      "10        visibility      1.066328\n",
      "11         moonphase      1.001982\n",
      "12          constant  16591.870025\n"
     ]
    }
   ],
   "source": [
    "from statsmodels.stats.outliers_influence import variance_inflation_factor\n",
    "\n",
    "X = df_numerical.assign(constant=1)\n",
    "\n",
    "# Calculate VIF for each feature\n",
    "vif_data = pd.DataFrame()\n",
    "vif_data[\"feature\"] = X.columns\n",
    "\n",
    "vif_data[\"VIF\"] = [variance_inflation_factor(X.values, i) for i in range(X.shape[1])]\n",
    "\n",
    "print(vif_data)"
   ]
  }
 ],
 "metadata": {
  "kernelspec": {
   "display_name": ".venv",
   "language": "python",
   "name": "python3"
  },
  "language_info": {
   "codemirror_mode": {
    "name": "ipython",
    "version": 3
   },
   "file_extension": ".py",
   "mimetype": "text/x-python",
   "name": "python",
   "nbconvert_exporter": "python",
   "pygments_lexer": "ipython3",
   "version": "3.10.12"
  }
 },
 "nbformat": 4,
 "nbformat_minor": 2
}
