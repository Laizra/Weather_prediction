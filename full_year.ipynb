{
 "cells": [
  {
   "cell_type": "code",
   "execution_count": 1,
   "metadata": {},
   "outputs": [],
   "source": [
    "import pandas as pd"
   ]
  },
  {
   "cell_type": "code",
   "execution_count": 2,
   "metadata": {},
   "outputs": [],
   "source": [
    "df = pd.read_csv(\"full_year-may23-may24.csv\", index_col=\"datetime\")"
   ]
  },
  {
   "cell_type": "markdown",
   "metadata": {},
   "source": [
    "Merge of the two csv datasets plus a new one, expanding from November 1st 2023 to August 1st 2023 - May 15 2024\n",
    "Source: https://www.visualcrossing.com/weather/weather-data-services#"
   ]
  },
  {
   "cell_type": "code",
   "execution_count": 3,
   "metadata": {},
   "outputs": [],
   "source": [
    "# city values remove extra spaces\n",
    "df['name'] = df['name'].str.strip()\n",
    "# calculate null value percentage in columns\n",
    "null_pct = df.apply(pd.isnull).sum()/df.shape[0]\n",
    "# use valid_columns as index of columns to keep which have less than 5% null values\n",
    "valid_columns = df.columns[null_pct < .05]\n",
    "df = df[valid_columns].copy()"
   ]
  },
  {
   "cell_type": "code",
   "execution_count": 4,
   "metadata": {},
   "outputs": [],
   "source": [
    "df = df[['name', 'tempmax', 'tempmin', 'temp', 'feelslikemax', 'feelslikemin',\n",
    "       'feelslike', 'dew', 'humidity', 'precip', 'precipprob', 'precipcover',\n",
    "       'snow', 'snowdepth', 'windgust', 'windspeed', 'winddir',\n",
    "       'sealevelpressure', 'cloudcover', 'visibility', 'sunrise', 'sunset',\n",
    "       'moonphase', 'conditions', 'description']]"
   ]
  },
  {
   "cell_type": "code",
   "execution_count": 5,
   "metadata": {},
   "outputs": [],
   "source": [
    "df.rename(columns = {'name':'location'}, inplace = True)"
   ]
  },
  {
   "cell_type": "code",
   "execution_count": 6,
   "metadata": {},
   "outputs": [],
   "source": [
    "beijing_city = df[df[\"location\"] == \"Beijing\"]\n",
    "berlin_city = df[df[\"location\"] == \"Berlin\"]\n",
    "London_city = df[df[\"location\"] == \"London\"]\n",
    "mexico_city = df[df[\"location\"] == \"Mexico City\"]\n",
    "moscow_city = df[df[\"location\"] == \"Moscow\"]\n",
    "ottawa_city = df[df[\"location\"] == \"Ottowa\"]\n",
    "paris_city = df[df[\"location\"] == \"Paris\"]\n",
    "rome_city = df[df[\"location\"] == \"Rome\"]\n",
    "washington_city = df[df[\"location\"] == \"Washington DC\"]"
   ]
  },
  {
   "cell_type": "markdown",
   "metadata": {},
   "source": [
    "The workflow:\n",
    "1) Understand the problem -- find next day's high/low temp; I have data on humidity, temperature, wind speed, etc\n",
    "2) Identify Key Factors -- What are the independent variables (hint #1) and my dependent variables\n",
    "3) Hypothesis -- _ significantly impacts \n",
    "4) Translate Hypo => Testable Statements -- Null/Alternate Hypothesis (this is an example, I had to do this in school, maybe it will help maybe not)\n",
    "5) Design the Experiment -- Data collection/cleaning, model selection, evaluation metrics (Research here)\n",
    "6) Analsys -- train the models, evaluate results (expected temp from your model vs actual temp), testing\n",
    "7) Success "
   ]
  },
  {
   "cell_type": "markdown",
   "metadata": {},
   "source": [
    "- What determines the next day's high and low temperature for each location?\n",
    "- What do you see from the data at first glance that might impact this?\n",
    "- How would you need to organize and clean your data?\n",
    "- Is your model 'universal', meaning does it apply to every location the same (no variance) when it comes to these predictions?\n",
    "- If not, what factors impact your model?\n",
    "- What tools or metrics will you need to use to account for these changes?\n",
    "- Is your model accurate? What causes the inaccuracy, if any?"
   ]
  },
  {
   "cell_type": "markdown",
   "metadata": {},
   "source": [
    "4) Translate Hypo => Testable Statements -- Null/Alternate Hypothesis (this is an example, I had to do this in school, maybe it will help maybe not)"
   ]
  },
  {
   "cell_type": "code",
   "execution_count": 7,
   "metadata": {},
   "outputs": [],
   "source": [
    "df_numerical = df[['tempmax', 'tempmin', 'temp', 'feelslikemax', 'feelslikemin',\n",
    "       'feelslike', 'dew', 'humidity', 'precip', 'precipprob', 'precipcover',\n",
    "       'snow', 'snowdepth', 'windgust', 'windspeed', 'winddir',\n",
    "       'sealevelpressure', 'cloudcover', 'visibility',\n",
    "       'moonphase']]"
   ]
  },
  {
   "cell_type": "markdown",
   "metadata": {},
   "source": [
    "5) Design the Experiment -- Data collection/cleaning, model selection, evaluation metrics (Research here)\n",
    "\n",
    "- I used a heatmap to visualize the corralatioin between dew point and temperature"
   ]
  },
  {
   "cell_type": "markdown",
   "metadata": {},
   "source": [
    "- Check Regression assumptions\n",
    "- Seperate dataframes per location\n",
    "- R2 and Adjusted R2\n",
    "- - sns.heatmap Pearson correlation test\n",
    "- Feature selection\n",
    "- Hypothesis -- significantly impacts\n",
    "- Cross validation (Model selection)\n",
    "- Training and evaluation"
   ]
  },
  {
   "cell_type": "markdown",
   "metadata": {},
   "source": [
    "The true purpose of regression is to seperate the total variance in lowtemp and hightemp from the variance explained by dew and the variance that is still unexplained."
   ]
  },
  {
   "cell_type": "code",
   "execution_count": 8,
   "metadata": {},
   "outputs": [
    {
     "name": "stdout",
     "output_type": "stream",
     "text": [
      "       feature        VIF\n",
      "0        const  39.538595\n",
      "1          dew   1.112560\n",
      "2     humidity   1.833689\n",
      "3       precip   1.379022\n",
      "4  precipcover   1.970144\n",
      "5     windgust   1.143521\n",
      "6   cloudcover   1.620783\n",
      "7   visibility   1.026475\n"
     ]
    }
   ],
   "source": [
    "# VIF < 5: Low multicollinearity.\n",
    "# VIF between 5 and 10: Moderate multicollinearity. Investigate further.\n",
    "# VIF > 10: High multicollinearity. Consider removing or combining features.\n",
    "\n",
    "from statsmodels.stats.outliers_influence import variance_inflation_factor\n",
    "from statsmodels.tools.tools import add_constant\n",
    "\n",
    "features = ['dew', 'humidity', 'precip', 'precipcover', 'windgust', 'cloudcover', 'visibility']\n",
    "\n",
    "# Add a constant to the model (intercept)\n",
    "X = add_constant(df_numerical[features])\n",
    "\n",
    "# Calculate VIF for each feature\n",
    "vif_data = pd.DataFrame()\n",
    "vif_data['feature'] = X.columns\n",
    "vif_data['VIF'] = [variance_inflation_factor(X.values, i) for i in range(X.shape[1])]\n",
    "\n",
    "print(vif_data)"
   ]
  },
  {
   "cell_type": "markdown",
   "metadata": {},
   "source": [
    "- Positive coefficients for dew, precip, precipcover suggest these factors increase tempmax.\n",
    "- Negative coefficients for humidity, windgust, cloudcover, visibility suggest these factors decrease tempmax.\n",
    "\n",
    "# Hyperparameter tuning to optimize Ridge"
   ]
  },
  {
   "cell_type": "code",
   "execution_count": 12,
   "metadata": {},
   "outputs": [
    {
     "name": "stdout",
     "output_type": "stream",
     "text": [
      "Best parameters found:  {'ridge__alpha': 0.01}\n",
      "Best cross-validation MSE:  3.860913365567872\n",
      "Test MSE:  4.113020119714419\n"
     ]
    }
   ],
   "source": [
    "from sklearn.model_selection import GridSearchCV, RandomizedSearchCV, train_test_split\n",
    "from sklearn.linear_model import Ridge\n",
    "from sklearn.preprocessing import StandardScaler\n",
    "from sklearn.pipeline import Pipeline\n",
    "from sklearn.metrics import mean_squared_error, make_scorer\n",
    "\n",
    "features = ['dew', 'humidity', 'precip', 'precipcover', 'windgust', 'cloudcover', 'visibility']\n",
    "target = 'tempmax'\n",
    "\n",
    "# Assuming df_numerical is your dataframe\n",
    "X = df_numerical[features]\n",
    "y = df_numerical[target]\n",
    "\n",
    "X_train, X_test, y_train, y_test = train_test_split(X, y, test_size=0.2, random_state=42)\n",
    "\n",
    "# Define a scoring function\n",
    "scoring = make_scorer(mean_squared_error, greater_is_better=False)\n",
    "\n",
    "# Define the Ridge model and the parameter grid for alpha\n",
    "ridge = Ridge()\n",
    "param_grid = {\n",
    "    'ridge__alpha': [0.01, 0.1, 1, 10, 100, 1000]\n",
    "}\n",
    "\n",
    "# Set up the pipeline with a standard scaler and ridge regression\n",
    "pipeline = Pipeline([\n",
    "    ('scaler', StandardScaler()),  # Optional: use if feature scaling is needed\n",
    "    ('ridge', ridge)\n",
    "])\n",
    "\n",
    "# Initialize GridSearchCV with the pipeline and parameter grid\n",
    "grid_search = GridSearchCV(pipeline, param_grid, cv=5, scoring=scoring)\n",
    "\n",
    "# Fit GridSearchCV to the training data\n",
    "grid_search.fit(X_train, y_train)\n",
    "\n",
    "# Print the best parameters and the corresponding score\n",
    "print(\"Best parameters found: \", grid_search.best_params_)\n",
    "print(\"Best cross-validation MSE: \", -grid_search.best_score_)\n",
    "\n",
    "# Evaluate the best model on the test set\n",
    "best_model = grid_search.best_estimator_\n",
    "y_pred = best_model.predict(X_test)\n",
    "test_mse = mean_squared_error(y_test, y_pred)\n",
    "print(\"Test MSE: \", test_mse)"
   ]
  },
  {
   "cell_type": "code",
   "execution_count": 13,
   "metadata": {},
   "outputs": [
    {
     "name": "stderr",
     "output_type": "stream",
     "text": [
      "/home/ahzof/hw_ds/.venv/lib/python3.10/site-packages/sklearn/model_selection/_search.py:318: UserWarning: The total space of parameters 6 is smaller than n_iter=10. Running 6 iterations. For exhaustive searches, use GridSearchCV.\n",
      "  warnings.warn(\n"
     ]
    },
    {
     "name": "stdout",
     "output_type": "stream",
     "text": [
      "Best parameters found:  {'ridge__alpha': 0.01}\n",
      "Best cross-validation MSE:  3.860913365567872\n",
      "Test MSE:  4.113020119714419\n"
     ]
    }
   ],
   "source": [
    "from sklearn.model_selection import RandomizedSearchCV\n",
    "\n",
    "# Define the parameter distribution for alpha\n",
    "param_distributions = {\n",
    "    'ridge__alpha': [0.01, 0.1, 1, 10, 100, 1000]\n",
    "}\n",
    "\n",
    "# Initialize RandomizedSearchCV with the pipeline and parameter distributions\n",
    "random_search = RandomizedSearchCV(pipeline, param_distributions, n_iter=10, cv=5, scoring=scoring, random_state=42)\n",
    "\n",
    "# Fit RandomizedSearchCV to the training data\n",
    "random_search.fit(X_train, y_train)\n",
    "\n",
    "# Print the best parameters and the corresponding score\n",
    "print(\"Best parameters found: \", random_search.best_params_)\n",
    "print(\"Best cross-validation MSE: \", -random_search.best_score_)\n",
    "\n",
    "# Evaluate the best model on the test set\n",
    "best_model = random_search.best_estimator_\n",
    "y_pred = best_model.predict(X_test)\n",
    "test_mse = mean_squared_error(y_test, y_pred)\n",
    "print(\"Test MSE: \", test_mse)\n"
   ]
  }
 ],
 "metadata": {
  "kernelspec": {
   "display_name": ".venv",
   "language": "python",
   "name": "python3"
  },
  "language_info": {
   "codemirror_mode": {
    "name": "ipython",
    "version": 3
   },
   "file_extension": ".py",
   "mimetype": "text/x-python",
   "name": "python",
   "nbconvert_exporter": "python",
   "pygments_lexer": "ipython3",
   "version": "3.10.12"
  }
 },
 "nbformat": 4,
 "nbformat_minor": 2
}
