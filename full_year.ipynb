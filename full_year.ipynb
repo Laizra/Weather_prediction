{
 "cells": [
  {
   "cell_type": "code",
   "execution_count": 363,
   "metadata": {},
   "outputs": [],
   "source": [
    "import pandas as pd"
   ]
  },
  {
   "cell_type": "code",
   "execution_count": 393,
   "metadata": {},
   "outputs": [],
   "source": [
    "# Read the CSV files into DataFrames\n",
    "july_2023 = pd.read_csv(\"July-01-to-2023-July-31.csv\", parse_dates=True)\n",
    "full_year_df = pd.read_csv(\"full_year-may23-may24.csv\", parse_dates=True)\n",
    "may_july_2024 = pd.read_csv(\"may-16-to-July-07-2024.csv\", parse_dates=True)"
   ]
  },
  {
   "cell_type": "code",
   "execution_count": 394,
   "metadata": {},
   "outputs": [],
   "source": [
    "july_2023.rename(columns = {'name':'location'}, inplace = True)\n",
    "full_year_df.rename(columns = {'name':'location'}, inplace = True)\n",
    "may_july_2024.rename(columns = {'name':'location'}, inplace = True)"
   ]
  },
  {
   "cell_type": "code",
   "execution_count": 395,
   "metadata": {},
   "outputs": [
    {
     "name": "stdout",
     "output_type": "stream",
     "text": [
      "location\n",
      "Ottowa           31\n",
      "London           31\n",
      "Washington DC    31\n",
      "Beijing          31\n",
      "Moscow           31\n",
      "Berlin           31\n",
      "Paris            31\n",
      "Rome             31\n",
      "Mexico City      31\n",
      "Name: count, dtype: int64\n",
      "location\n",
      "Beijing          381\n",
      "Berlin           381\n",
      "London           381\n",
      "Mexico City      381\n",
      "Ottawa           381\n",
      "Washington DC    381\n",
      "Moscow           289\n",
      "Rome             197\n",
      "Paris            184\n",
      "Rome             184\n",
      "Paris            105\n",
      "Moscow            92\n",
      "Paris             92\n",
      "Name: count, dtype: int64\n",
      "location\n",
      "London           53\n",
      "Washington DC    53\n",
      "Beijing          53\n",
      "Moscow           53\n",
      "Ottawa           53\n",
      "Berlin           53\n",
      "Paris            53\n",
      "Rome             53\n",
      "Mexico City      53\n",
      "Name: count, dtype: int64\n"
     ]
    }
   ],
   "source": [
    "print(july_2023[\"location\"].value_counts())\n",
    "print(full_year_df[\"location\"].value_counts())\n",
    "print(may_july_2024[\"location\"].value_counts())"
   ]
  },
  {
   "cell_type": "markdown",
   "metadata": {},
   "source": [
    "# May 16th 2024 - July 7th 2024"
   ]
  },
  {
   "cell_type": "code",
   "execution_count": 398,
   "metadata": {},
   "outputs": [
    {
     "data": {
      "text/html": [
       "<div>\n",
       "<style scoped>\n",
       "    .dataframe tbody tr th:only-of-type {\n",
       "        vertical-align: middle;\n",
       "    }\n",
       "\n",
       "    .dataframe tbody tr th {\n",
       "        vertical-align: top;\n",
       "    }\n",
       "\n",
       "    .dataframe thead th {\n",
       "        text-align: right;\n",
       "    }\n",
       "</style>\n",
       "<table border=\"1\" class=\"dataframe\">\n",
       "  <thead>\n",
       "    <tr style=\"text-align: right;\">\n",
       "      <th></th>\n",
       "      <th>location</th>\n",
       "      <th>datetime</th>\n",
       "      <th>tempmax</th>\n",
       "      <th>tempmin</th>\n",
       "      <th>temp</th>\n",
       "      <th>feelslikemax</th>\n",
       "      <th>feelslikemin</th>\n",
       "      <th>feelslike</th>\n",
       "      <th>dew</th>\n",
       "      <th>humidity</th>\n",
       "      <th>...</th>\n",
       "      <th>solarenergy</th>\n",
       "      <th>uvindex</th>\n",
       "      <th>severerisk</th>\n",
       "      <th>sunrise</th>\n",
       "      <th>sunset</th>\n",
       "      <th>moonphase</th>\n",
       "      <th>conditions</th>\n",
       "      <th>description</th>\n",
       "      <th>icon</th>\n",
       "      <th>stations</th>\n",
       "    </tr>\n",
       "  </thead>\n",
       "  <tbody>\n",
       "    <tr>\n",
       "      <th>476</th>\n",
       "      <td>Mexico City</td>\n",
       "      <td>2024-07-07</td>\n",
       "      <td>24.1</td>\n",
       "      <td>13.6</td>\n",
       "      <td>17.6</td>\n",
       "      <td>24.1</td>\n",
       "      <td>13.6</td>\n",
       "      <td>17.6</td>\n",
       "      <td>10.7</td>\n",
       "      <td>66.6</td>\n",
       "      <td>...</td>\n",
       "      <td>23.3</td>\n",
       "      <td>10</td>\n",
       "      <td>10</td>\n",
       "      <td>2024-07-07T06:04:11</td>\n",
       "      <td>2024-07-07T19:19:02</td>\n",
       "      <td>0.06</td>\n",
       "      <td>Rain, Partially cloudy</td>\n",
       "      <td>Partly cloudy throughout the day with rain.</td>\n",
       "      <td>rain</td>\n",
       "      <td>NaN</td>\n",
       "    </tr>\n",
       "  </tbody>\n",
       "</table>\n",
       "<p>1 rows × 33 columns</p>\n",
       "</div>"
      ],
      "text/plain": [
       "        location    datetime  tempmax  tempmin  temp  feelslikemax  \\\n",
       "476  Mexico City  2024-07-07     24.1     13.6  17.6          24.1   \n",
       "\n",
       "     feelslikemin  feelslike   dew  humidity  ...  solarenergy  uvindex  \\\n",
       "476          13.6       17.6  10.7      66.6  ...         23.3       10   \n",
       "\n",
       "     severerisk              sunrise               sunset  moonphase  \\\n",
       "476          10  2024-07-07T06:04:11  2024-07-07T19:19:02       0.06   \n",
       "\n",
       "                 conditions                                  description  \\\n",
       "476  Rain, Partially cloudy  Partly cloudy throughout the day with rain.   \n",
       "\n",
       "     icon  stations  \n",
       "476  rain       NaN  \n",
       "\n",
       "[1 rows x 33 columns]"
      ]
     },
     "execution_count": 398,
     "metadata": {},
     "output_type": "execute_result"
    }
   ],
   "source": [
    "may_july_2024.tail(1)"
   ]
  },
  {
   "cell_type": "markdown",
   "metadata": {},
   "source": [
    "# July 1st 2023 - May 15th 2024\n",
    "Join tables"
   ]
  },
  {
   "cell_type": "code",
   "execution_count": 391,
   "metadata": {},
   "outputs": [
    {
     "data": {
      "text/html": [
       "<div>\n",
       "<style scoped>\n",
       "    .dataframe tbody tr th:only-of-type {\n",
       "        vertical-align: middle;\n",
       "    }\n",
       "\n",
       "    .dataframe tbody tr th {\n",
       "        vertical-align: top;\n",
       "    }\n",
       "\n",
       "    .dataframe thead th {\n",
       "        text-align: right;\n",
       "    }\n",
       "</style>\n",
       "<table border=\"1\" class=\"dataframe\">\n",
       "  <thead>\n",
       "    <tr style=\"text-align: right;\">\n",
       "      <th></th>\n",
       "      <th>location</th>\n",
       "      <th>datetime</th>\n",
       "      <th>tempmax</th>\n",
       "      <th>tempmin</th>\n",
       "      <th>temp</th>\n",
       "      <th>feelslikemax</th>\n",
       "      <th>feelslikemin</th>\n",
       "      <th>feelslike</th>\n",
       "      <th>dew</th>\n",
       "      <th>humidity</th>\n",
       "      <th>...</th>\n",
       "      <th>solarenergy</th>\n",
       "      <th>uvindex</th>\n",
       "      <th>severerisk</th>\n",
       "      <th>sunrise</th>\n",
       "      <th>sunset</th>\n",
       "      <th>moonphase</th>\n",
       "      <th>conditions</th>\n",
       "      <th>description</th>\n",
       "      <th>icon</th>\n",
       "      <th>stations</th>\n",
       "    </tr>\n",
       "  </thead>\n",
       "  <tbody>\n",
       "    <tr>\n",
       "      <th>0</th>\n",
       "      <td>Ottowa</td>\n",
       "      <td>2023-07-01</td>\n",
       "      <td>27.0</td>\n",
       "      <td>19.6</td>\n",
       "      <td>23.1</td>\n",
       "      <td>28.6</td>\n",
       "      <td>19.6</td>\n",
       "      <td>23.2</td>\n",
       "      <td>20.8</td>\n",
       "      <td>88.0</td>\n",
       "      <td>...</td>\n",
       "      <td>12.5</td>\n",
       "      <td>7.0</td>\n",
       "      <td>30.0</td>\n",
       "      <td>2023-07-01T05:17:46</td>\n",
       "      <td>2023-07-01T20:26:19</td>\n",
       "      <td>0.44</td>\n",
       "      <td>Rain, Partially cloudy</td>\n",
       "      <td>Partly cloudy throughout the day with morning ...</td>\n",
       "      <td>rain</td>\n",
       "      <td>72212604879,KVPZ,KPPO,72102900347,72532704846,...</td>\n",
       "    </tr>\n",
       "  </tbody>\n",
       "</table>\n",
       "<p>1 rows × 33 columns</p>\n",
       "</div>"
      ],
      "text/plain": [
       "  location    datetime  tempmax  tempmin  temp  feelslikemax  feelslikemin  \\\n",
       "0   Ottowa  2023-07-01     27.0     19.6  23.1          28.6          19.6   \n",
       "\n",
       "   feelslike   dew  humidity  ...  solarenergy  uvindex  severerisk  \\\n",
       "0       23.2  20.8      88.0  ...         12.5      7.0        30.0   \n",
       "\n",
       "               sunrise               sunset  moonphase  \\\n",
       "0  2023-07-01T05:17:46  2023-07-01T20:26:19       0.44   \n",
       "\n",
       "               conditions                                        description  \\\n",
       "0  Rain, Partially cloudy  Partly cloudy throughout the day with morning ...   \n",
       "\n",
       "   icon                                           stations  \n",
       "0  rain  72212604879,KVPZ,KPPO,72102900347,72532704846,...  \n",
       "\n",
       "[1 rows x 33 columns]"
      ]
     },
     "execution_count": 391,
     "metadata": {},
     "output_type": "execute_result"
    }
   ],
   "source": [
    "full_year_df.tail(1)\n",
    "july_2023.head(1)"
   ]
  },
  {
   "cell_type": "code",
   "execution_count": 368,
   "metadata": {},
   "outputs": [],
   "source": [
    "correct_dtypes = {\n",
    "    'location': 'object',\n",
    "    'tempmax': 'float64',\n",
    "    'tempmin': 'float64',\n",
    "    'temp': 'float64',\n",
    "    'feelslikemax': 'float64',\n",
    "    'feelslikemin': 'float64',\n",
    "    'feelslike': 'float64',\n",
    "    'dew': 'float64',\n",
    "    'humidity': 'float64',\n",
    "    'precip': 'float64',\n",
    "    'precipprob': 'int64',\n",
    "    'precipcover': 'float64',\n",
    "    'preciptype': 'object',\n",
    "    'snow': 'float64',\n",
    "    'snowdepth': 'float64',\n",
    "    'windgust': 'float64',\n",
    "    'windspeed': 'float64',\n",
    "    'winddir': 'float64',\n",
    "    'sealevelpressure': 'float64',\n",
    "    'cloudcover': 'float64',\n",
    "    'visibility': 'float64',\n",
    "    'solarradiation': 'float64',\n",
    "    'solarenergy': 'float64',\n",
    "    'uvindex': 'float64',\n",
    "    'severerisk': 'float64',\n",
    "    'sunrise': 'object',\n",
    "    'sunset': 'object',\n",
    "    'moonphase': 'float64',\n",
    "    'conditions': 'object',\n",
    "    'description': 'object',\n",
    "    'icon': 'object',\n",
    "    'stations': 'object'\n",
    "}\n",
    "july_2023 = july_2023.astype(correct_dtypes)"
   ]
  },
  {
   "cell_type": "code",
   "execution_count": 387,
   "metadata": {},
   "outputs": [
    {
     "data": {
      "text/plain": [
       "location\n",
       "Beijing          381\n",
       "Berlin           381\n",
       "London           381\n",
       "Mexico City      381\n",
       "Ottawa           381\n",
       "Washington DC    381\n",
       "Moscow           289\n",
       "Rome             197\n",
       "Paris            184\n",
       "Rome             184\n",
       "Paris            105\n",
       "Moscow            92\n",
       "Paris             92\n",
       "Ottowa            31\n",
       "Name: count, dtype: int64"
      ]
     },
     "execution_count": 387,
     "metadata": {},
     "output_type": "execute_result"
    }
   ],
   "source": [
    "# Concatenate the dataframes along the index\n",
    "df = pd.merge(full_year_df, july_2023, how=\"outer\").set_index(\"datetime\")\n",
    "\n",
    "df.tail()\n",
    "df[df[\"location\"] == \"Ottawa\"].value_counts().sum()\n",
    "df[df[\"location\"] == \"Mexico City\"].value_counts().sum()\n"
   ]
  },
  {
   "cell_type": "markdown",
   "metadata": {},
   "source": [
    "Merge of the two csv datasets plus a new one, expanding from November 1st 2023 to August 1st 2023 - May 15 2024\n",
    "Source: https://www.visualcrossing.com/weather/weather-data-services#"
   ]
  },
  {
   "cell_type": "code",
   "execution_count": 389,
   "metadata": {},
   "outputs": [],
   "source": [
    "# city values remove extra spaces\n",
    "df['location'] = df['location'].str.strip()\n",
    "# calculate null value percentage in columns\n",
    "null_pct = df.apply(pd.isnull).sum()/df.shape[0]\n",
    "# use valid_columns as index of columns to keep which have less than 5% null values\n",
    "valid_columns = df.columns[null_pct < .05]\n",
    "df = df[valid_columns].copy()"
   ]
  },
  {
   "cell_type": "code",
   "execution_count": 390,
   "metadata": {},
   "outputs": [
    {
     "data": {
      "text/plain": [
       "location\n",
       "Beijing          381\n",
       "Berlin           381\n",
       "London           381\n",
       "Mexico City      381\n",
       "Moscow           381\n",
       "Ottawa           381\n",
       "Paris            381\n",
       "Rome             381\n",
       "Washington DC    381\n",
       "Ottowa            31\n",
       "Name: count, dtype: int64"
      ]
     },
     "execution_count": 390,
     "metadata": {},
     "output_type": "execute_result"
    }
   ],
   "source": [
    "df[\"location\"].value_counts()"
   ]
  },
  {
   "cell_type": "code",
   "execution_count": 371,
   "metadata": {},
   "outputs": [],
   "source": [
    "df = df[['location', 'tempmax', 'tempmin', 'temp', 'feelslikemax', 'feelslikemin',\n",
    "       'feelslike', 'dew', 'humidity', 'precip', 'precipprob', 'precipcover',\n",
    "       'snow', 'snowdepth', 'windgust', 'windspeed', 'winddir',\n",
    "       'sealevelpressure', 'cloudcover', 'visibility',\n",
    "       'moonphase', 'conditions', 'description']]\n",
    "\n",
    "# df = df[['location', 'dew', 'humidity', 'precip', 'precipcover', 'windgust', 'cloudcover', 'visibility']]"
   ]
  },
  {
   "cell_type": "code",
   "execution_count": 379,
   "metadata": {},
   "outputs": [],
   "source": [
    "beijing_city = df[df[\"location\"] == \"Beijing\"]\n",
    "berlin_city = df[df[\"location\"] == \"Berlin\"]\n",
    "London_city = df[df[\"location\"] == \"London\"]\n",
    "mexico_city = df[df[\"location\"] == \"Mexico City\"]\n",
    "moscow_city = df[df[\"location\"] == \"Moscow\"]\n",
    "ottawa_city = df[df[\"location\"] == \"Ottawa\"]\n",
    "paris_city = df[df[\"location\"] == \"Paris\"]\n",
    "rome_city = df[df[\"location\"] == \"Rome\"]\n",
    "washington_city = df[df[\"location\"] == \"Washington DC\"]"
   ]
  },
  {
   "cell_type": "markdown",
   "metadata": {},
   "source": [
    "The workflow:\n",
    "1) Understand the problem -- find next day's high/low temp; I have data on humidity, temperature, wind speed, etc\n",
    "2) Identify Key Factors -- What are the independent variables (hint #1) and my dependent variables\n",
    "3) Hypothesis -- _ significantly impacts \n",
    "4) Translate Hypo => Testable Statements -- Null/Alternate Hypothesis (this is an example, I had to do this in school, maybe it will help maybe not)\n",
    "5) Design the Experiment -- Data collection/cleaning, model selection, evaluation metrics (Research here)\n",
    "6) Analsys -- train the models, evaluate results (expected temp from your model vs actual temp), testing\n",
    "7) Success "
   ]
  },
  {
   "cell_type": "markdown",
   "metadata": {},
   "source": [
    "- What determines the next day's high and low temperature for each location?\n",
    "- What do you see from the data at first glance that might impact this?\n",
    "- How would you need to organize and clean your data?\n",
    "- Is your model 'universal', meaning does it apply to every location the same (no variance) when it comes to these predictions?\n",
    "- If not, what factors impact your model?\n",
    "- What tools or metrics will you need to use to account for these changes?\n",
    "- Is your model accurate? What causes the inaccuracy, if any?"
   ]
  },
  {
   "cell_type": "markdown",
   "metadata": {},
   "source": [
    "4) Translate Hypo => Testable Statements -- Null/Alternate Hypothesis (this is an example, I had to do this in school, maybe it will help maybe not)"
   ]
  },
  {
   "cell_type": "code",
   "execution_count": 373,
   "metadata": {},
   "outputs": [],
   "source": [
    "df_numerical = df[['tempmax', 'tempmin', 'temp', 'feelslikemax', 'feelslikemin',\n",
    "       'feelslike', 'dew', 'humidity', 'precip', 'precipprob', 'precipcover',\n",
    "       'snow', 'snowdepth', 'windgust', 'windspeed', 'winddir',\n",
    "       'sealevelpressure', 'cloudcover', 'visibility',\n",
    "       'moonphase']]"
   ]
  },
  {
   "cell_type": "markdown",
   "metadata": {},
   "source": [
    "5) Design the Experiment -- Data collection/cleaning, model selection, evaluation metrics (Research here)\n",
    "\n",
    "- I used a heatmap to visualize the corralatioin between dew point and temperature"
   ]
  },
  {
   "cell_type": "markdown",
   "metadata": {},
   "source": [
    "- Check Regression assumptions\n",
    "- Seperate dataframes per location\n",
    "- R2 and Adjusted R2\n",
    "- - sns.heatmap Pearson correlation test\n",
    "- Feature selection\n",
    "- Hypothesis -- significantly impacts\n",
    "- Cross validation (Model selection)\n",
    "- Training and evaluation"
   ]
  },
  {
   "cell_type": "markdown",
   "metadata": {},
   "source": [
    "The true purpose of regression is to seperate the total variance in lowtemp and hightemp from the variance explained by dew and the variance that is still unexplained."
   ]
  },
  {
   "cell_type": "code",
   "execution_count": 374,
   "metadata": {},
   "outputs": [
    {
     "name": "stdout",
     "output_type": "stream",
     "text": [
      "       feature        VIF\n",
      "0        const  39.777236\n",
      "1          dew   1.116597\n",
      "2     humidity   1.830842\n",
      "3       precip   1.385957\n",
      "4  precipcover   1.974844\n",
      "5     windgust   1.145459\n",
      "6   cloudcover   1.608647\n",
      "7   visibility   1.026734\n"
     ]
    }
   ],
   "source": [
    "# VIF < 5: Low multicollinearity.\n",
    "# VIF between 5 and 10: Moderate multicollinearity. Investigate further.\n",
    "# VIF > 10: High multicollinearity. Consider removing or combining features.\n",
    "\n",
    "from statsmodels.stats.outliers_influence import variance_inflation_factor\n",
    "from statsmodels.tools.tools import add_constant\n",
    "\n",
    "features = ['dew', 'humidity', 'precip', 'precipcover', 'windgust', 'cloudcover', 'visibility']\n",
    "\n",
    "# Add a constant to the model (intercept)\n",
    "X = add_constant(df_numerical[features])\n",
    "\n",
    "# Calculate VIF for each feature\n",
    "vif_data = pd.DataFrame()\n",
    "vif_data['feature'] = X.columns\n",
    "vif_data['VIF'] = [variance_inflation_factor(X.values, i) for i in range(X.shape[1])]\n",
    "\n",
    "print(vif_data)"
   ]
  },
  {
   "cell_type": "markdown",
   "metadata": {},
   "source": [
    "- Positive coefficients for dew, precip, precipcover suggest these factors increase tempmax.\n",
    "- Negative coefficients for humidity, windgust, cloudcover, visibility suggest these factors decrease tempmax.\n",
    "\n",
    "# Hyperparameter tuning to optimize Ridge"
   ]
  },
  {
   "cell_type": "code",
   "execution_count": 375,
   "metadata": {},
   "outputs": [
    {
     "name": "stdout",
     "output_type": "stream",
     "text": [
      "Best parameters found:  {'ridge__alpha': 0.01}\n",
      "Best cross-validation MSE:  3.7285925900551127\n",
      "Test MSE:  4.530962346408037\n"
     ]
    }
   ],
   "source": [
    "from sklearn.model_selection import GridSearchCV, RandomizedSearchCV, train_test_split\n",
    "from sklearn.linear_model import Ridge\n",
    "from sklearn.preprocessing import StandardScaler\n",
    "from sklearn.pipeline import Pipeline\n",
    "from sklearn.metrics import mean_squared_error, make_scorer\n",
    "\n",
    "features = ['dew', 'humidity', 'precip', 'precipcover', 'windgust', 'cloudcover', 'visibility']\n",
    "target = 'tempmax'\n",
    "\n",
    "# Assuming df_numerical is your dataframe\n",
    "X = df_numerical[features]\n",
    "y = df_numerical[target]\n",
    "\n",
    "X_train, X_test, y_train, y_test = train_test_split(X, y, test_size=0.2, random_state=42)\n",
    "\n",
    "# Define a scoring function\n",
    "scoring = make_scorer(mean_squared_error, greater_is_better=False)\n",
    "\n",
    "# Define the Ridge model and the parameter grid for alpha\n",
    "ridge = Ridge()\n",
    "param_grid = {\n",
    "    'ridge__alpha': [0.01, 0.1, 1, 10, 100, 1000]\n",
    "}\n",
    "\n",
    "# Set up the pipeline with a standard scaler and ridge regression\n",
    "pipeline = Pipeline([\n",
    "    ('scaler', StandardScaler()),  # Optional: use if feature scaling is needed\n",
    "    ('ridge', ridge)\n",
    "])\n",
    "\n",
    "# Initialize GridSearchCV with the pipeline and parameter grid\n",
    "grid_search = GridSearchCV(pipeline, param_grid, cv=5, scoring=scoring)\n",
    "\n",
    "# Fit GridSearchCV to the training data\n",
    "grid_search.fit(X_train, y_train)\n",
    "\n",
    "# Print the best parameters and the corresponding score\n",
    "print(\"Best parameters found: \", grid_search.best_params_)\n",
    "print(\"Best cross-validation MSE: \", -grid_search.best_score_)\n",
    "\n",
    "# Evaluate the best model on the test set\n",
    "best_model = grid_search.best_estimator_\n",
    "y_pred = best_model.predict(X_test)\n",
    "test_mse = mean_squared_error(y_test, y_pred)\n",
    "print(\"Test MSE: \", test_mse)"
   ]
  },
  {
   "cell_type": "code",
   "execution_count": 376,
   "metadata": {},
   "outputs": [
    {
     "name": "stderr",
     "output_type": "stream",
     "text": [
      "/home/ahzof/hw_ds/.venv/lib/python3.10/site-packages/sklearn/model_selection/_search.py:318: UserWarning: The total space of parameters 6 is smaller than n_iter=10. Running 6 iterations. For exhaustive searches, use GridSearchCV.\n",
      "  warnings.warn(\n"
     ]
    },
    {
     "name": "stdout",
     "output_type": "stream",
     "text": [
      "Best parameters found:  {'ridge__alpha': 0.01}\n",
      "Best cross-validation MSE:  3.7285925900551127\n",
      "Test MSE:  4.530962346408037\n"
     ]
    }
   ],
   "source": [
    "from sklearn.model_selection import RandomizedSearchCV\n",
    "\n",
    "# Define the parameter distribution for alpha\n",
    "param_distributions = {\n",
    "    'ridge__alpha': [0.01, 0.1, 1, 10, 100, 1000]\n",
    "}\n",
    "\n",
    "# Initialize RandomizedSearchCV with the pipeline and parameter distributions\n",
    "random_search = RandomizedSearchCV(pipeline, param_distributions, n_iter=10, cv=5, scoring=scoring, random_state=42)\n",
    "\n",
    "# Fit RandomizedSearchCV to the training data\n",
    "random_search.fit(X_train, y_train)\n",
    "\n",
    "# Print the best parameters and the corresponding score\n",
    "print(\"Best parameters found: \", random_search.best_params_)\n",
    "print(\"Best cross-validation MSE: \", -random_search.best_score_)\n",
    "\n",
    "# Evaluate the best model on the test set\n",
    "best_model = random_search.best_estimator_\n",
    "y_pred = best_model.predict(X_test)\n",
    "test_mse = mean_squared_error(y_test, y_pred)\n",
    "print(\"Test MSE: \", test_mse)\n"
   ]
  }
 ],
 "metadata": {
  "kernelspec": {
   "display_name": ".venv",
   "language": "python",
   "name": "python3"
  },
  "language_info": {
   "codemirror_mode": {
    "name": "ipython",
    "version": 3
   },
   "file_extension": ".py",
   "mimetype": "text/x-python",
   "name": "python",
   "nbconvert_exporter": "python",
   "pygments_lexer": "ipython3",
   "version": "3.10.12"
  }
 },
 "nbformat": 4,
 "nbformat_minor": 2
}
