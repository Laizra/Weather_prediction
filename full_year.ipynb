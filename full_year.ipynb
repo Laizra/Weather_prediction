{
 "cells": [
  {
   "cell_type": "code",
   "execution_count": 1,
   "metadata": {},
   "outputs": [],
   "source": [
    "import pandas as pd"
   ]
  },
  {
   "cell_type": "code",
   "execution_count": 2,
   "metadata": {},
   "outputs": [],
   "source": [
    "df = pd.read_csv(\"full_year-may23-may24.csv\", index_col=\"datetime\")"
   ]
  },
  {
   "cell_type": "markdown",
   "metadata": {},
   "source": [
    "Merge of the two csv datasets plus a new one, expanding from November 1st 2023 to August 1st 2023 - May 15 2024\n",
    "Source: https://www.visualcrossing.com/weather/weather-data-services#"
   ]
  },
  {
   "cell_type": "code",
   "execution_count": 3,
   "metadata": {},
   "outputs": [],
   "source": [
    "# city values remove extra spaces\n",
    "df['name'] = df['name'].str.strip()\n",
    "# calculate null value percentage in columns\n",
    "null_pct = df.apply(pd.isnull).sum()/df.shape[0]\n",
    "# use valid_columns as index of columns to keep which have less than 5% null values\n",
    "valid_columns = df.columns[null_pct < .05]\n",
    "df = df[valid_columns].copy()"
   ]
  },
  {
   "cell_type": "code",
   "execution_count": 4,
   "metadata": {},
   "outputs": [],
   "source": [
    "df = df[['name', 'tempmax', 'tempmin', 'temp', 'feelslikemax', 'feelslikemin',\n",
    "       'feelslike', 'dew', 'humidity', 'precip', 'precipprob', 'precipcover',\n",
    "       'snow', 'snowdepth', 'windgust', 'windspeed', 'winddir',\n",
    "       'sealevelpressure', 'cloudcover', 'visibility', 'sunrise', 'sunset',\n",
    "       'moonphase', 'conditions', 'description']]"
   ]
  },
  {
   "cell_type": "code",
   "execution_count": 5,
   "metadata": {},
   "outputs": [],
   "source": [
    "df.rename(columns = {'name':'location'}, inplace = True)"
   ]
  },
  {
   "cell_type": "code",
   "execution_count": 6,
   "metadata": {},
   "outputs": [],
   "source": [
    "beijing_city = df[df[\"location\"] == \"Beijing\"]\n",
    "berlin_city = df[df[\"location\"] == \"Berlin\"]\n",
    "London_city = df[df[\"location\"] == \"London\"]\n",
    "mexico_city = df[df[\"location\"] == \"Mexico City\"]\n",
    "moscow_city = df[df[\"location\"] == \"Moscow\"]\n",
    "ottawa_city = df[df[\"location\"] == \"Ottowa\"]\n",
    "paris_city = df[df[\"location\"] == \"Paris\"]\n",
    "rome_city = df[df[\"location\"] == \"Rome\"]\n",
    "washington_city = df[df[\"location\"] == \"Washington DC\"]"
   ]
  },
  {
   "cell_type": "markdown",
   "metadata": {},
   "source": [
    "The workflow:\n",
    "1) Understand the problem -- find next day's high/low temp; I have data on humidity, temperature, wind speed, etc\n",
    "2) Identify Key Factors -- What are the independent variables (hint #1) and my dependent variables\n",
    "3) Hypothesis -- _ significantly impacts \n",
    "4) Translate Hypo => Testable Statements -- Null/Alternate Hypothesis (this is an example, I had to do this in school, maybe it will help maybe not)\n",
    "5) Design the Experiment -- Data collection/cleaning, model selection, evaluation metrics (Research here)\n",
    "6) Analsys -- train the models, evaluate results (expected temp from your model vs actual temp), testing\n",
    "7) Success "
   ]
  },
  {
   "cell_type": "markdown",
   "metadata": {},
   "source": [
    "- What determines the next day's high and low temperature for each location?\n",
    "- What do you see from the data at first glance that might impact this?\n",
    "- How would you need to organize and clean your data?\n",
    "- Is your model 'universal', meaning does it apply to every location the same (no variance) when it comes to these predictions?\n",
    "- If not, what factors impact your model?\n",
    "- What tools or metrics will you need to use to account for these changes?\n",
    "- Is your model accurate? What causes the inaccuracy, if any?"
   ]
  },
  {
   "cell_type": "markdown",
   "metadata": {},
   "source": [
    "4) Translate Hypo => Testable Statements -- Null/Alternate Hypothesis (this is an example, I had to do this in school, maybe it will help maybe not)"
   ]
  },
  {
   "cell_type": "code",
   "execution_count": 7,
   "metadata": {},
   "outputs": [],
   "source": [
    "df_numerical = df[['tempmax', 'tempmin', 'temp', 'feelslikemax', 'feelslikemin',\n",
    "       'feelslike', 'dew', 'humidity', 'precip', 'precipprob', 'precipcover',\n",
    "       'snow', 'snowdepth', 'windgust', 'windspeed', 'winddir',\n",
    "       'sealevelpressure', 'cloudcover', 'visibility',\n",
    "       'moonphase']]"
   ]
  },
  {
   "cell_type": "markdown",
   "metadata": {},
   "source": [
    "5) Design the Experiment -- Data collection/cleaning, model selection, evaluation metrics (Research here)\n",
    "\n",
    "- I used a heatmap to visualize the corralatioin between dew point and temperature"
   ]
  },
  {
   "cell_type": "markdown",
   "metadata": {},
   "source": [
    "- Check Regression assumptions\n",
    "- Seperate dataframes per location\n",
    "- R2 and Adjusted R2\n",
    "- - sns.heatmap Pearson correlation test\n",
    "- Feature selection\n",
    "- Hypothesis -- significantly impacts\n",
    "- Cross validation (Model selection)\n",
    "- Training and evaluation"
   ]
  },
  {
   "cell_type": "markdown",
   "metadata": {},
   "source": [
    "The true purpose of regression is to seperate the total variance in lowtemp and hightemp from the variance explained by dew and the variance that is still unexplained."
   ]
  },
  {
   "cell_type": "code",
   "execution_count": 8,
   "metadata": {},
   "outputs": [
    {
     "name": "stdout",
     "output_type": "stream",
     "text": [
      "       feature        VIF\n",
      "0        const  39.538595\n",
      "1          dew   1.112560\n",
      "2     humidity   1.833689\n",
      "3       precip   1.379022\n",
      "4  precipcover   1.970144\n",
      "5     windgust   1.143521\n",
      "6   cloudcover   1.620783\n",
      "7   visibility   1.026475\n"
     ]
    }
   ],
   "source": [
    "# VIF < 5: Low multicollinearity.\n",
    "# VIF between 5 and 10: Moderate multicollinearity. Investigate further.\n",
    "# VIF > 10: High multicollinearity. Consider removing or combining features.\n",
    "\n",
    "from statsmodels.stats.outliers_influence import variance_inflation_factor\n",
    "from statsmodels.tools.tools import add_constant\n",
    "\n",
    "features = ['dew', 'humidity', 'precip', 'precipcover', 'windgust', 'cloudcover', 'visibility']\n",
    "\n",
    "# Add a constant to the model (intercept)\n",
    "X = add_constant(df_numerical[features])\n",
    "\n",
    "# Calculate VIF for each feature\n",
    "vif_data = pd.DataFrame()\n",
    "vif_data['feature'] = X.columns\n",
    "vif_data['VIF'] = [variance_inflation_factor(X.values, i) for i in range(X.shape[1])]\n",
    "\n",
    "print(vif_data)"
   ]
  },
  {
   "cell_type": "code",
   "execution_count": 10,
   "metadata": {},
   "outputs": [
    {
     "name": "stdout",
     "output_type": "stream",
     "text": [
      "Linear Regression: Mean MSE = 4.341556434273872, Std = 1.0187095568102174\n",
      "Ridge Regression: Mean MSE = 4.341482332808695, Std = 1.0204625826681022\n",
      "Lasso Regression: Mean MSE = 7.719589862017342, Std = 2.98075859035973\n",
      "Random Forest: Mean MSE = 8.913726578641015, Std = 8.591948432174004\n",
      "Gradient Boosting: Mean MSE = 6.128112089400853, Std = 3.8382074902700443\n",
      "Support Vector Regression: Mean MSE = 10.061998265957772, Std = 6.018005395235186\n"
     ]
    }
   ],
   "source": [
    "# VIF test approved\n",
    "# R-squared: 0.962 and adj. R-squared: 0.961\n",
    "from sklearn.model_selection import cross_val_score\n",
    "from sklearn.linear_model import LinearRegression, Ridge, Lasso\n",
    "from sklearn.ensemble import RandomForestRegressor, GradientBoostingRegressor\n",
    "from sklearn.svm import SVR\n",
    "from sklearn.preprocessing import StandardScaler\n",
    "from sklearn.pipeline import Pipeline\n",
    "from sklearn.metrics import mean_squared_error, make_scorer\n",
    "\n",
    "features = ['dew', 'humidity', 'precip', 'precipcover', 'windgust', 'cloudcover', 'visibility']\n",
    "target = 'tempmax'  # Replace with your actual target variable name\n",
    "\n",
    "# Assuming df_numerical is your dataframe\n",
    "X = df_numerical[features]\n",
    "y = df_numerical[target]\n",
    "\n",
    "# Define models to evaluate\n",
    "models = {\n",
    "    'Linear Regression': LinearRegression(),\n",
    "    'Ridge Regression': Ridge(),\n",
    "    'Lasso Regression': Lasso(),\n",
    "    'Random Forest': RandomForestRegressor(),\n",
    "    'Gradient Boosting': GradientBoostingRegressor(),\n",
    "    'Support Vector Regression': SVR()\n",
    "}\n",
    "\n",
    "# Define a scoring function\n",
    "scoring = make_scorer(mean_squared_error, greater_is_better=False)\n",
    "\n",
    "# Cross-validate each model\n",
    "results = {}\n",
    "for model_name, model in models.items():\n",
    "    pipeline = Pipeline([\n",
    "        ('scaler', StandardScaler()),  # Optional: use if feature scaling is needed\n",
    "        ('regressor', model)\n",
    "    ])\n",
    "    cv_scores = cross_val_score(pipeline, X, y, cv=5, scoring=scoring)\n",
    "    results[model_name] = cv_scores\n",
    "\n",
    "# Print cross-validation results\n",
    "for model_name, cv_scores in results.items():\n",
    "    print(f'{model_name}: Mean MSE = {-cv_scores.mean()}, Std = {cv_scores.std()}')\n",
    "\n",
    "# Based on the results, choose the best model and perform hyperparameter tuning if necessary\n"
   ]
  },
  {
   "cell_type": "markdown",
   "metadata": {},
   "source": [
    "- Positive coefficients for dew, precip, precipcover suggest these factors increase tempmax.\n",
    "- Negative coefficients for humidity, windgust, cloudcover, visibility suggest these factors decrease tempmax.\n",
    "\n",
    "# Hyperparameter tuning to optimize Ridge"
   ]
  }
 ],
 "metadata": {
  "kernelspec": {
   "display_name": ".venv",
   "language": "python",
   "name": "python3"
  },
  "language_info": {
   "codemirror_mode": {
    "name": "ipython",
    "version": 3
   },
   "file_extension": ".py",
   "mimetype": "text/x-python",
   "name": "python",
   "nbconvert_exporter": "python",
   "pygments_lexer": "ipython3",
   "version": "3.10.12"
  }
 },
 "nbformat": 4,
 "nbformat_minor": 2
}
